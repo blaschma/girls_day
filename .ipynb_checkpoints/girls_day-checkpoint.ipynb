{
 "cells": [
  {
   "cell_type": "markdown",
   "id": "46f92a3a",
   "metadata": {},
   "source": [
    "# Girls Day am Lehrstuhl für Theoretische Physik 1\n",
    "\n",
    "Wenn ihr zuhause den Lichtschalter umlegt, geht das Licht an. Strom wird durch Leitungen zur Glühbirne transportiert und sie fängt an zu leuchten wenn Strom fließt. Wichtig sind dafür die Kabel zur Glühbirne und natürlich die Glühbirne selbst. Habt ihr euch schonmal gefragt was genau da eigentlich passiert? \n",
    "Wir haben für unsere Untersuchungen alles extrem geschrumpft. Die Kabel sind bei uns ganz feine Goldspitzen, die ganz vorne nur ein wenigen Atomen bestehen. Die Glühbirne ersetzen wir durch einzelne Atome und Moleküle (Ein menschliches Haar ist etwa 300.000 Atome breit). Dadurch können wir verstehen wie der Transport auf so einer kleinen Skala tatsächlich funktionert! Wir haben Euch als Beispiel zwei kleine Beispiele vorbereitet\n",
    "## Einzelnes Level\n",
    "Im ersten Teil wollen wir die Transmission durch ein einzelens molekulares Level berechnen. Das ist ein einfaches Modell wie der  Transport durch ein einzelnes Molekül oder Atom stattfinden. Das Modell dafür ist in dem Bilder weiter unten dargestellt. Die türkisen Kästen stellen hier die Elektroden dar. Diese kann man sich als ganz feine Kabel vorstellen, die an das Molekül angeschlossen sind. Das Molekül selbst ist der Balken in der Mitte. Hier haben wir nur ein sogenanntes Energielevel gezeichnet. Ein Molekül besteht aus Atomen und Elektronen. Die Elektronen sind ganz kleine Teilchen, die eine negative Ladung tragen. Vereinfacht gesagt kreisen die Elektronen um die Atome. Ein solches Energielevel gibt nun an wie genau sich Elektronen um die Atome bewegen bzw. aufhalten können. Das Verhalten kann man mit einer einfachen Zahl beschreiben: Der Energie von dem Level. Wir wollen nun die Transmission für einen solchen Kontakt ausrechen. Das ist in etwa die Wahrscheinlichkeit mit der der Transport von Links nach Rechts funktioniert. \n",
    "Stellt Euch folgendes vor: Ihr wollt vom Linken Flussufer zum rechten Flussufer hüpfen. Unser Energielevel könnt ihr euch wie einen großen Stein im Fluss vorstellen. Trefft ihr genau diesen beim hüfen, ist es sehr wahrscheinlich, dass Ihr erfolgreich über den Fluss kommt. Eure Transmission wäre also 1. Wenn ihr beim hüpfen nicht genau den Stein trefft, fallt ihr ins Wasser. In der Welt der Quantenmechanik kann aber nun was ganz spannendes passieren: Selbst wenn ihr das Energielevel nicht genau trefft, kommt ihr mit einer gewissen wahrscheinlichkeit über den Fluss! Schaut selbst: Die Transmission durch einen solchen Kontakt kännen wir mit folgender Formel berechnen:\n",
    "\n",
    "![Alt-Text](./img/single_level.PNG)*Bild entnommen aus \"Cuevas, Juan Carlos, and Elke Scheer. Molecular electronics: an introduction to theory and experiment. 2010.\"*"
   ]
  },
  {
   "cell_type": "code",
   "execution_count": 4,
   "id": "4ab09d4f",
   "metadata": {},
   "outputs": [
    {
     "data": {
      "application/vnd.jupyter.widget-view+json": {
       "model_id": "8c49813433184bc782bde7ea2750a3be",
       "version_major": 2,
       "version_minor": 0
      },
      "text/plain": [
       "interactive(children=(FloatSlider(value=1.0, description='Gamma_L', max=4.0), FloatSlider(value=1.0, descripti…"
      ]
     },
     "metadata": {},
     "output_type": "display_data"
    }
   ],
   "source": [
    "%matplotlib inline\n",
    "from ipywidgets import interact, interactive\n",
    "from IPython.display import clear_output, display, HTML\n",
    "import numpy as np\n",
    "from matplotlib import pyplot as plt\n",
    "from matplotlib.colors import cnames\n",
    "from matplotlib import animation\n",
    "\n",
    "def plot_transmission_einzelnes_level(Gamma_L=1.0, Gamma_R=1.0, e0=0.0):\n",
    "\n",
    "    fig, ax = plt.subplots()\n",
    "    E=np.linspace(-5,5,100)\n",
    "\n",
    "\n",
    "    T=(4*Gamma_L*Gamma_R)/((E-e0)**2+(Gamma_L+Gamma_R)**2)\n",
    "\n",
    "    # Map each onto a scatterplot we'll create with Matplotlib\n",
    "    ax.plot(E,T)\n",
    "    ax.set(title=\"Transmission\")\n",
    "    ax.set_xlabel(\"Energie\")\n",
    "    ax.set_ylabel(\"Transmission\")\n",
    "    plt.show()\n",
    "\n",
    "w = interactive(plot_transmission_einzelnes_level, Gamma_L=(0,4.), Gamma_R=(0, 4.), \n",
    "                e0=(-5,5))\n",
    "display(w)"
   ]
  },
  {
   "cell_type": "markdown",
   "id": "79fa4dbe",
   "metadata": {},
   "source": [
    "## Zwei Level\n",
    "![Alt-Text](./img/double_level.PNG)*Bild entnommen aus \"Cuevas, Juan Carlos, and Elke Scheer. Molecular electronics: an introduction to theory and experiment. 2010.\"*"
   ]
  },
  {
   "cell_type": "code",
   "execution_count": 2,
   "id": "f6c25cf3",
   "metadata": {},
   "outputs": [
    {
     "data": {
      "application/vnd.jupyter.widget-view+json": {
       "model_id": "e90e77e819fa47de9aed85266d0499e6",
       "version_major": 2,
       "version_minor": 0
      },
      "text/plain": [
       "interactive(children=(FloatSlider(value=1.0, description='Gamma', max=4.0), FloatSlider(value=0.0, description…"
      ]
     },
     "metadata": {},
     "output_type": "display_data"
    }
   ],
   "source": [
    "%matplotlib inline\n",
    "from ipywidgets import interact, interactive\n",
    "from IPython.display import clear_output, display, HTML\n",
    "import numpy as np\n",
    "from matplotlib import pyplot as plt\n",
    "from matplotlib.colors import cnames\n",
    "from matplotlib import animation\n",
    "\n",
    "def plot_transmission_zwei_level(Gamma=1.0, e_0=0.0, t_H=1.0):\n",
    "\n",
    "    fig, ax = plt.subplots()\n",
    "    E=np.linspace(-5,5,100)\n",
    "\n",
    "    \n",
    "    e_p = e_0 + t_H\n",
    "    e_m = e_0 - t_H\n",
    "    T=(4*Gamma**2*t_H**2)/(((E-e_p)**2+Gamma**2)*((E-e_m)**2+Gamma**2))\n",
    "    # Map each onto a scatterplot we'll create with Matplotlib\n",
    "    ax.plot(E,T)\n",
    "    ax.set(title=\"Transmission\")\n",
    "    ax.set_xlabel(\"Energie\")\n",
    "    ax.set_ylabel(\"Transmission\")\n",
    "    plt.show()\n",
    "\n",
    "w = interactive(plot_transmission_zwei_level, Gamma=(0,4.), e_0=(0, 4.), \n",
    "                t_H=(0,5))\n",
    "display(w)"
   ]
  },
  {
   "cell_type": "code",
   "execution_count": null,
   "id": "36a43e30",
   "metadata": {},
   "outputs": [],
   "source": []
  }
 ],
 "metadata": {
  "celltoolbar": "Edit Metadata",
  "kernelspec": {
   "display_name": "Python 3 (ipykernel)",
   "language": "python",
   "name": "python3"
  },
  "language_info": {
   "codemirror_mode": {
    "name": "ipython",
    "version": 3
   },
   "file_extension": ".py",
   "mimetype": "text/x-python",
   "name": "python",
   "nbconvert_exporter": "python",
   "pygments_lexer": "ipython3",
   "version": "3.9.2"
  }
 },
 "nbformat": 4,
 "nbformat_minor": 5
}
