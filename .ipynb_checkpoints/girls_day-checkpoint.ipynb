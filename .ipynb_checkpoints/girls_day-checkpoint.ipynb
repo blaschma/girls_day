{
 "cells": [
  {
   "cell_type": "markdown",
   "id": "432e8d1b",
   "metadata": {},
   "source": [
    "# Girls Day am Lehrstuhl für Theoretische Physik 1\n",
    "\n",
    "Wenn ihr zuhause den Lichtschalter umlegt, geht das Licht an. Strom wird durch Leitungen zur Glühbirne transportiert und sie fängt an zu leuchten wenn Strom fließt. Wichtig sind dafür die Kabel zur Glühbirne und natürlich die Glühbirne selbst. Habt ihr euch schonmal gefragt was genau da eigentlich passiert? \n",
    "Wir haben für unsere Untersuchungen alles extrem geschrumpft. Die Kabel sind bei uns ganz feine Goldspitzen, die ganz vorne nur ein wenigen Atomen bestehen. Die Glühbirne ersetzen wir durch einzelne Atome und Moleküle (Ein menschliches Haar ist etwa 300.000 Atome breit). Dadurch können wir verstehen wie der Transport auf so einer kleinen Skala tatsächlich funktionert! Wir haben Euch als Beispiel zwei kleine Beispiele vorbereitet\n",
    "## Einzelnes Level\n",
    "Im ersten Teil wollen wir die Transmission durch ein einzelens molekulares Level berechnen. Das ist ein einfaches Modell wie der  Transport durch ein einzelnes Molekül oder Atom stattfindet. Das Modell dafür ist in dem Bilder weiter unten dargestellt. Die türkisen Kästen stellen hier die Elektroden dar. Diese kann man sich als ganz feine Kabel vorstellen, die an das Molekül angeschlossen sind. Das Molekül selbst ist der Balken in der Mitte. Hier haben wir nur ein sogenanntes Energielevel gezeichnet. Ein Molekül besteht aus Atomen und den dazugehörigen Elektronen. Die Elektronen sind ganz kleine Teilchen, die eine negative Ladung tragen. Vereinfacht gesagt kreisen die Elektronen um die Atome. Ein solches Energielevel gibt nun an wie genau sich Elektronen um die Atome bewegen bzw. aufhalten können. Das Verhalten kann man mit einer einfachen Zahl beschreiben: Der Energie von dem Level. Wir wollen nun die Transmission für einen solchen Kontakt ausrechen. Das ist in etwa die Wahrscheinlichkeit, dass das Elektron von der linken Elektrode in das Energielevel des Moleküls springt und von dort in die rechte Elektrode. Zum Vergleich könnt ihr euch Folgendes vorstellen:\n",
    "Ihr wollt vom Linken Flussufer zum rechten Flussufer hüpfen. Unser Energielevel könnt ihr euch wie einen großen Stein im Fluss vorstellen. Trefft ihr genau diesen beim hüfen, ist es sehr wahrscheinlich, dass Ihr erfolgreich über den Fluss kommt. Eure Transmission wäre also 1. Wenn ihr beim hüpfen nicht genau den Stein trefft, fallt ihr ins Wasser. In der Welt der Quantenmechanik kann aber nun was ganz spannendes passieren: Selbst wenn ihr das Energielevel nicht genau trefft, kommt ihr mit einer gewissen Wahrscheinlichkeit über den Fluss! Schaut selbst: Die Transmission durch einen solchen Kontakt können wir mit folgender Formel berechnen:\n",
    "$$T(E) = \\frac{4\\Gamma_L \\Gamma_R}{\\left[E- \\epsilon_0 \\right]^2 + \\left[ \\Gamma_L + \\Gamma_R \\right]^2} $$\n",
    "Sie hängt natürlich von der Position des Levels $\\epsilon_0$ ab, aber auch davon wie stark dieses Level an die linke bzw. rechte Elektrode gekoppelt ist. Diese Eigenschaft, wird duch die Größen $\\Gamma_R$ und $\\Gamma_L$ beschrieben. Die Transmission ist eine Funktion von der Energie $E$ des betrachteten Elektrons (Bisher kennt Ihr vielleicht nur Funktionen wie y=f(x). Die Funktion f ordnet jedem x Wert einen y Wert zu. Bei uns bekommt jede Energie einen Transmissionswert zugeordnet).\n",
    "Was passiert, wenn du $\\epsilon_0$ änderst? Welchen Unterschied macht es, ob $\\Gamma_L$ größer ist oder $\\Gamma_R$? Was passiert wenn $\\Gamma_L$ oder $\\Gamma_R$ auf $0$ gesetzt wird?\n",
    "\n",
    "![Alt-Text](./img/single_level.PNG)*Bild entnommen aus \"Cuevas, Juan Carlos, and Elke Scheer. Molecular electronics: an introduction to theory and experiment. 2010.\"*"
   ]
  },
  {
   "cell_type": "code",
   "execution_count": 4,
   "id": "b41b4992",
   "metadata": {},
   "outputs": [
    {
     "data": {
      "application/vnd.jupyter.widget-view+json": {
       "model_id": "8c49813433184bc782bde7ea2750a3be",
       "version_major": 2,
       "version_minor": 0
      },
      "text/plain": [
       "interactive(children=(FloatSlider(value=1.0, description='Gamma_L', max=4.0), FloatSlider(value=1.0, descripti…"
      ]
     },
     "metadata": {},
     "output_type": "display_data"
    }
   ],
   "source": [
    "%matplotlib inline\n",
    "from ipywidgets import interact, interactive\n",
    "from IPython.display import clear_output, display, HTML\n",
    "import numpy as np\n",
    "from matplotlib import pyplot as plt\n",
    "from matplotlib.colors import cnames\n",
    "from matplotlib import animation\n",
    "\n",
    "def plot_transmission_einzelnes_level(Gamma_L=1.0, Gamma_R=1.0, e0=0.0):\n",
    "\n",
    "    fig, ax = plt.subplots()\n",
    "    E=np.linspace(-5,5,100)\n",
    "\n",
    "\n",
    "    T=(4*Gamma_L*Gamma_R)/((E-e0)**2+(Gamma_L+Gamma_R)**2)\n",
    "\n",
    "    # Map each onto a scatterplot we'll create with Matplotlib\n",
    "    ax.plot(E,T)\n",
    "    ax.set(title=\"Transmission\")\n",
    "    ax.set_xlabel(\"Energie\")\n",
    "    ax.set_ylabel(\"Transmission\")\n",
    "    plt.show()\n",
    "\n",
    "w = interactive(plot_transmission_einzelnes_level, Gamma_L=(0,4.), Gamma_R=(0, 4.), \n",
    "                e0=(-5,5))\n",
    "display(w)"
   ]
  },
  {
   "cell_type": "markdown",
   "id": "3cbd1e5c",
   "metadata": {},
   "source": [
    "## Zwei Level\n",
    "Jetzt erweitern wir das Modell um ein weiteres Level. Das Elektron kann nun von der linken Elektrode auf das erste Level springen und von dort weiter auf das zweite, um schließlich die rechte Elektrode zu erreichen. Zur Vereinfachung setzen wir beide Level auf den gleichen Wert $\\epsilon_0$ und die Kopplungen nach links bzw. rechts beide auch $\\Gamma_L = \\Gamma_R = \\Gamma$. Aber natürlich haben wir noch die Kopplung zwischen den beiden Leveln als wichtige Größe. Die Transmission wird jetzt durch die Formel \n",
    "$$ T(E) = \\frac{4 \\Gamma^2 t_H^2}{((E-(\\epsilon_0 - t_H) )^2 + \\Gamma^2)\\cdot ((E-(\\epsilon_0 + t_H) )^2 + \\Gamma^2)} $$\n",
    "beschieben. Probiere auch hier wieder, wie die Kurve für verschiedene Werte von $\\Gamma$, $\\epsilon_0$ und $t_H$ aussieht. Was passiert, wenn du die Kopplung $t_H$ zwischen den beiden Leveln erhöhst bzw. verringerst?\n",
    "![Alt-Text](./img/double_level.PNG)*Bild entnommen aus \"Cuevas, Juan Carlos, and Elke Scheer. Molecular electronics: an introduction to theory and experiment. 2010.\"*"
   ]
  },
  {
   "cell_type": "code",
   "execution_count": 1,
   "id": "d6334b1b",
   "metadata": {},
   "outputs": [
    {
     "data": {
      "application/vnd.jupyter.widget-view+json": {
       "model_id": "9a0deed6dce849d9918eacbb75480ed2",
       "version_major": 2,
       "version_minor": 0
      },
      "text/plain": [
       "interactive(children=(FloatSlider(value=1.0, description='Gamma', max=4.0), FloatSlider(value=0.0, description…"
      ]
     },
     "metadata": {},
     "output_type": "display_data"
    }
   ],
   "source": [
    "%matplotlib inline\n",
    "from ipywidgets import interact, interactive\n",
    "from IPython.display import clear_output, display, HTML\n",
    "import numpy as np\n",
    "from matplotlib import pyplot as plt\n",
    "from matplotlib.colors import cnames\n",
    "from matplotlib import animation\n",
    "\n",
    "def plot_transmission_zwei_level(Gamma=1.0, e_0=0.0, t_H=1.0):\n",
    "\n",
    "    fig, ax = plt.subplots()\n",
    "    E=np.linspace(-5,5,100)\n",
    "\n",
    "    \n",
    "    e_p = e_0 + t_H\n",
    "    e_m = e_0 - t_H\n",
    "    T=(4*Gamma**2*t_H**2)/(((E-e_p)**2+Gamma**2)*((E-e_m)**2+Gamma**2))\n",
    "    # Map each onto a scatterplot we'll create with Matplotlib\n",
    "    ax.plot(E,T)\n",
    "    ax.set(title=\"Transmission\")\n",
    "    ax.set_xlabel(\"Energie\")\n",
    "    ax.set_ylabel(\"Transmission\")\n",
    "    plt.show()\n",
    "\n",
    "w = interactive(plot_transmission_zwei_level, Gamma=(0,4.), e_0=(0, 4.), \n",
    "                t_H=(0,5))\n",
    "display(w)"
   ]
  },
  {
   "cell_type": "markdown",
   "id": "b01b8df4",
   "metadata": {},
   "source": [
    "## Auch zwei Level\n",
    "Auch in diesem Modell gibt es zwei Level. Ein Elektron springt auf dem direkten Weg von links nach rechts jedoch nur durch eines der beiden Level. Man könnte jetzt erwarten, dass wir wieder den ersten Fall eines einzelnen Modells haben, aber tatsächlich hat das zweite Level einen Einfluss auf die Transmission, die jetzt die Form \n",
    "$$T(E) = \\frac{4\\Gamma_L \\Gamma_R}{\\left[E- \\epsilon_0  - \\frac{t^2}{(E-\\epsilon)} \\right]^2 + \\left[ \\Gamma_L + \\Gamma_R \\right]^2} $$\n",
    "hat. Das zweite Level hat jetzt die Energie $\\epsilon$ und die Größe $t$ beschreibt die Kopplung zwischen den beiden Leveln.\n",
    "Was beobachtest du in diesem Fall? Durch geschickte Wahl der einzelnen Größen, erhältst du wieder den Fall eines einzelnen Levels. Wie sieht diese Wahl aus? Kannst du das auch an der Formel erkennen?\n",
    "![Alt-Text](./img/fano_level.PNG)*Bild entnommen aus \"Cuevas, Juan Carlos, and Elke Scheer. Molecular electronics: an introduction to theory and experiment. 2010.\"*"
   ]
  },
  {
   "cell_type": "code",
   "execution_count": 9,
   "id": "c5a07d86",
   "metadata": {},
   "outputs": [
    {
     "data": {
      "application/vnd.jupyter.widget-view+json": {
       "model_id": "cbc494fd2d484be8bead58937d03e496",
       "version_major": 2,
       "version_minor": 0
      },
      "text/plain": [
       "interactive(children=(FloatSlider(value=0.0, description='e', max=1.0, min=-1.0), FloatSlider(value=0.5, descr…"
      ]
     },
     "metadata": {},
     "output_type": "display_data"
    }
   ],
   "source": [
    "%matplotlib inline\n",
    "from ipywidgets import interact, interactive\n",
    "from IPython.display import clear_output, display, HTML\n",
    "import numpy as np\n",
    "from matplotlib import pyplot as plt\n",
    "from matplotlib.colors import cnames\n",
    "from matplotlib import animation\n",
    "\n",
    "def plot_transmission_fano_level(e=0., t=0.5):\n",
    "\n",
    "    fig, ax = plt.subplots()\n",
    "    E=np.linspace(-5,5,100)\n",
    "\n",
    "\n",
    "    e0=2.\n",
    "    Gamma_L=0.1\n",
    "    Gamma_R=0.1\n",
    "    T=(4*Gamma_L*Gamma_R)/((E-e0-t*t/(E-e))**2+(Gamma_L+Gamma_R)**2)\n",
    "\n",
    "    # Map each onto a scatterplot we'll create with Matplotlib\n",
    "    ax.plot(E,T)\n",
    "    ax.set(title=\"Transmission\")\n",
    "    ax.set_xlabel(\"Energie\")\n",
    "    ax.set_ylabel(\"Transmission\")\n",
    "  #  ax.set_yscale(\"log\")\n",
    "    plt.show()\n",
    "\n",
    "w = interactive(plot_transmission_fano_level, e=(-1,1.), t=(0, 1.))\n",
    "display(w)"
   ]
  }
 ],
 "metadata": {
  "celltoolbar": "Edit Metadata",
  "kernelspec": {
   "display_name": "Python 3 (ipykernel)",
   "language": "python",
   "name": "python3"
  },
  "language_info": {
   "codemirror_mode": {
    "name": "ipython",
    "version": 3
   },
   "file_extension": ".py",
   "mimetype": "text/x-python",
   "name": "python",
   "nbconvert_exporter": "python",
   "pygments_lexer": "ipython3",
   "version": "3.9.2"
  }
 },
 "nbformat": 4,
 "nbformat_minor": 5
}
