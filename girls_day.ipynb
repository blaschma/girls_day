{
 "cells": [
  {
   "cell_type": "markdown",
   "id": "57d2d59e",
   "metadata": {},
   "source": [
    "# Girls' Day am Lehrstuhl für Theoretische Physik 1\n",
    "\n",
    "Wie ihr in der Präsentation gesehen habt, ist der Leitwert proportional zur Transmission. Deshalb schauen wir uns jetzt die Transmission in verschiedenen einfachen Modellen an.\n",
    "\n",
    "## Einzelnes Niveau\n",
    "\n",
    "Im ersten Teil wollen wir die Transmission durch ein einzelens Niveau berechnen. Das ist ein einfaches Modell wie der Transport durch ein einzelnes Molekül oder Atom stattfindet. Das Modell ist im Bild weiter unten dargestellt. Die Goldpyramiden auf den beiden Seiten stellen hier die Elektroden dar. Diese kontaktieren das Molekül, ähnlich wie die Fassung eine Glühbirne. Das Energieniveau des Moleküls selbst wird durch den Balken in der Mitte beschrieben. \n",
    "Wir wollen nun die Transmission für einen solchen Kontakt ausrechnen. Das ist in etwa die Wahrscheinlichkeit, dass das Elektron von der linken Elektrode in das Energielevel des Moleküls springt und von dort in die rechte Elektrode. Zum Vergleich könnt ihr euch Folgendes vorstellen:\n",
    "Ihr wollt vom linken Flussufer zum rechten Flussufer hüpfen. Unser Energielevel könnt ihr euch wie einen großen Stein im Fluss vorstellen. Trefft ihr genau diesen beim Hüfen, ist es sehr wahrscheinlich, dass Ihr erfolgreich über den Fluss kommt. Eure Transmission wäre also perfekt und ist dann eins. Wenn ihr beim Hüpfen nicht genau den Stein trefft, fallt ihr ins Wasser. In der Welt der Quantenmechanik kann aber nun etwas ganz Spannendes passieren: Selbst wenn ihr das Energieniveau nicht genau trefft, kommt ihr mit einer gewissen Wahrscheinlichkeit über den Fluss! \n",
    "Die Transmission durch einen solchen Kontakt können wir mit folgender Formel berechnen:\n",
    "$$T(E) = \\frac{4 K_L K_R}{\\left[E- e_1 \\right]^2 + \\left[ K_L + K_R \\right]^2} $$\n",
    "Sie hängt von der Position des Levels $e_1$ ab, aber auch davon wie stark dieses Level an die linke bzw. rechte Elektrode gekoppelt ist. Diese Kopplungen nach links bzw. rechts werden durch die Größen $K_L$ und $K_R$ beschrieben. Die Transmission ist eine Funktion der Energie $E$ des einfallenden Elektrons. (Bisher kennt Ihr vielleicht Funktionen wie y=f(x). Die Funktion f ordnet jedem x Wert einen y Wert zu. Bei uns bekommt jede Energie einen Transmissionswert zugeordnet.)\n",
    "Was passiert, wenn du $e_1$ änderst? Welchen Unterschied macht es, ob $K_L$ größer ist oder $K_R$? Was passiert wenn $K_L$ oder $K_R$ auf $0$ gesetzt wird?\n",
    "\n",
    "![Alt-Text](./img/single_level_new.PNG)"
   ]
  },
  {
   "cell_type": "code",
   "execution_count": 35,
   "id": "ba7ee32c",
   "metadata": {},
   "outputs": [
    {
     "data": {
      "application/vnd.jupyter.widget-view+json": {
       "model_id": "2e9f108ae04e48a79c4dd978f34ff14d",
       "version_major": 2,
       "version_minor": 0
      },
      "text/plain": [
       "interactive(children=(FloatSlider(value=1.0, continuous_update=False, description='$K_L$', max=6.0), FloatSlid…"
      ]
     },
     "metadata": {},
     "output_type": "display_data"
    }
   ],
   "source": [
    "%matplotlib inline\n",
    "from ipywidgets import interact, interactive\n",
    "from IPython.display import clear_output, display, HTML\n",
    "import numpy as np\n",
    "from matplotlib import pyplot as plt\n",
    "from matplotlib.colors import cnames\n",
    "from matplotlib import animation\n",
    "from ipywidgets import *\n",
    "from IPython.display import display\n",
    "\n",
    "def plot_transmission_einzelnes_level(K_L=1.0, K_R=1.0, e1=0.0):\n",
    "\n",
    "    fig, ax = plt.subplots()\n",
    "    E=np.linspace(-10,10,500)\n",
    "\n",
    "\n",
    "    T=(4*K_L*K_R)/((E-e1)**2+(K_L+K_R)**2)\n",
    "\n",
    "    # Map each onto a scatterplot we'll create with Matplotlib\n",
    "    ax.plot(E,T)\n",
    "    ax.set_xlabel(\"Energie (eV)\")\n",
    "    ax.set_ylabel(\"Transmission\")\n",
    "    plt.ylim(0,1.0)\n",
    "    plt.show()\n",
    "    \n",
    "K_L_slider = widgets.FloatSlider(value=1.0,min=0.0,max=6.0000,description=r'$K_L$',continuous_update=False)\n",
    "K_R_slider = widgets.FloatSlider(value=1.0,min=0.0,max=6.0000,description=r'$K_R$',continuous_update=False)\n",
    "e1_slider = widgets.FloatSlider(value=0.0,min=-5.0,max=5.0000,description=r'$e_1$',continuous_update=False)\n",
    "w = interactive(plot_transmission_einzelnes_level, K_L=K_L_slider, K_R=K_R_slider, \n",
    "                e1=e1_slider)\n",
    "display(w)"
   ]
  },
  {
   "cell_type": "markdown",
   "id": "1a217e35",
   "metadata": {},
   "source": [
    "## Zwei Niveaus\n",
    "Jetzt erweitern wir das Modell um ein weiteres Niveau. Das Elektron kann nun von der linken Elektrode auf das erste Niveau springen und von dort weiter auf das zweite, um schließlich die rechte Elektrode zu erreichen. Zur Vereinfachung setzen wir beide Niveaus auf den gleichen Wert $\\epsilon_0$ und die Kopplungen nach links bzw. rechts beide auch $K_L = K_R = K$. Aber natürlich haben wir noch die Kopplung zwischen den beiden Niveaus als wichtige Größe. Die Transmission wird jetzt durch die Formel \n",
    "$$ T(E) = \\frac{4 K^2 h^2}{((E-(e_0 - h) )^2 + K^2)\\cdot ((E-(e_0 + h) )^2 + K^2)} $$\n",
    "beschieben. Probiere auch hier wieder, wie die Kurve für verschiedene Werte von $K$, $e_0$ und $h$ aussieht. Was passiert, wenn du die Kopplung $h$ zwischen den beiden Niveaus erhöhst bzw. verringerst?\n",
    "![Alt-Text](./img/double_level_new.PNG)"
   ]
  },
  {
   "cell_type": "code",
   "execution_count": 36,
   "id": "ebe429e4",
   "metadata": {},
   "outputs": [
    {
     "data": {
      "application/vnd.jupyter.widget-view+json": {
       "model_id": "487857383e284844a8d249a36c0a68e2",
       "version_major": 2,
       "version_minor": 0
      },
      "text/plain": [
       "interactive(children=(FloatSlider(value=1.0, description='K', max=3.0, min=-1.0), FloatSlider(value=0.0, conti…"
      ]
     },
     "metadata": {},
     "output_type": "display_data"
    }
   ],
   "source": [
    "%matplotlib inline\n",
    "from ipywidgets import interact, interactive\n",
    "from IPython.display import clear_output, display, HTML\n",
    "import numpy as np\n",
    "from matplotlib import pyplot as plt\n",
    "from matplotlib.colors import cnames\n",
    "from matplotlib import animation\n",
    "from ipywidgets import *\n",
    "from IPython.display import display\n",
    "\n",
    "def plot_transmission_zwei_level(K=1.0, e_0=0.0, h=1.0):\n",
    "\n",
    "    fig, ax = plt.subplots()\n",
    "    E=np.linspace(-10,10,500)\n",
    "\n",
    "    \n",
    "    e_p = e_0 + h\n",
    "    e_m = e_0 - h\n",
    "    T=(4*K**2*h**2)/(((E-e_p)**2+K**2)*((E-e_m)**2+K**2))\n",
    "    # Map each onto a scatterplot we'll create with Matplotlib\n",
    "    ax.plot(E,T)\n",
    "    ax.set_xlabel(\"Energie (eV)\")\n",
    "    ax.set_ylabel(\"Transmission\")\n",
    "    plt.ylim(0,1.0)\n",
    "    plt.show()\n",
    "    \n",
    "K_slider = widgets.FloatSlider(value=1.0,min=0.0,max=6.0000,description=r'$K$',continuous_update=False)\n",
    "h_slider = widgets.FloatSlider(value=1.0,min=0.0,max=6.0000,description=r'$h$',continuous_update=False)\n",
    "e0_slider = widgets.FloatSlider(value=0.0,min=-5.0,max=5.0000,description=r'$e_0$',continuous_update=False)\n",
    "w = interactive(plot_transmission_zwei_level, Gamma=K_slider, e_0=e0_slider, \n",
    "                t_H=h_slider)\n",
    "display(w)"
   ]
  },
  {
   "cell_type": "markdown",
   "id": "9be52e3a",
   "metadata": {},
   "source": [
    "## Auch zwei Level\n",
    "Auch in diesem Modell gibt es zwei Level. Hier ist nur eines der beiden Niveaus direkt mit beiden Elektroden verbunden. Das zweite Niveau ist nicht mit den Elektroden verbunden, sondern nur mit dem ersten Niveau. Ein Elektron kann sich also auf dem direkten Weg durch das erste Niveau von links nach rechts bewegen. Man könnte jetzt erwarten, dass wir wieder den ersten Fall eines einzelnen Modells haben, da das zweite Niveau ja nur eine Sackgasse ist. Aber tatsächlich hat das zweite Level einen Einfluss auf die Transmission. Das Elektron kann nämlich alternativ auch Umwege durch das zweite Niveau nehmen. Die Transmission hat jetzt die Form: \n",
    "$$T(E) = \\frac{4 K^2}{\\left[E- \\epsilon_1  - \\frac{h^2}{(E-e_2)} \\right]^2 + \\left[ 2 K \\right]^2} $$\n",
    "Die Energien $\\epsilon$ der beiden Niveaus sind $e_1$ und $e_2$, die Größe $h$ beschreibt die Kopplung zwischen den beiden Niveaus. $K$ beschreibt die Kopplung nach links und nach rechts.\n",
    "Was beobachtest du in diesem Fall? Durch geschickte Wahl der einzelnen Größen, erhältst du wieder den Fall eines einzelnen Niveaus. Wie sieht diese Wahl aus? Kannst du das auch an der Formel erkennen?\n",
    "![Alt-Text](./img/fano_level_new.PNG)"
   ]
  },
  {
   "cell_type": "code",
   "execution_count": 2,
   "id": "2e35e2dd",
   "metadata": {},
   "outputs": [
    {
     "data": {
      "application/vnd.jupyter.widget-view+json": {
       "model_id": "adc1b7fd18fb4c2195b61dab03882f19",
       "version_major": 2,
       "version_minor": 0
      },
      "text/plain": [
       "interactive(children=(FloatSlider(value=1.0, continuous_update=False, description='$e_2$', max=2.0, min=-2.0),…"
      ]
     },
     "metadata": {},
     "output_type": "display_data"
    }
   ],
   "source": [
    "%matplotlib inline\n",
    "from ipywidgets import interact, interactive\n",
    "from IPython.display import clear_output, display, HTML\n",
    "import numpy as np\n",
    "from matplotlib import pyplot as plt\n",
    "from matplotlib.colors import cnames\n",
    "from matplotlib import animation\n",
    "from ipywidgets import *\n",
    "from IPython.display import display\n",
    "\n",
    "def plot_transmission_fano_level(e2=0., t=0.5):\n",
    "\n",
    "    fig, ax = plt.subplots()\n",
    "    E=np.linspace(-10,10,500)\n",
    "\n",
    "\n",
    "    e1=0.\n",
    "    K=0.5\n",
    "\n",
    "    T=(4*K*K)/((E-e1-t*t/(E-e2))**2+(K+K)**2)\n",
    "\n",
    "    # Map each onto a scatterplot we'll create with Matplotlib\n",
    "    ax.plot(E,T)\n",
    "    ax.set(title=\"Transmission\")\n",
    "    ax.set_xlabel(\"Energie\")\n",
    "    ax.set_ylabel(\"Transmission\")\n",
    "    plt.ylim(0,1.0)\n",
    "    #ax.set_yscale(\"log\")\n",
    "    plt.show()\n",
    "h_slider = widgets.FloatSlider(value=1.0,min=0.0,max=6.0000,description=r'$h$',continuous_update=False)\n",
    "e2_slider = widgets.FloatSlider(value=1.0,min=-2.0,max=2.0000,description=r'$e_2$',continuous_update=False)\n",
    "w = interactive(plot_transmission_fano_level, e2=e2_slider, t=h_slider)\n",
    "display(w)"
   ]
  },
  {
   "cell_type": "code",
   "execution_count": null,
   "id": "6d7eaa7d",
   "metadata": {},
   "outputs": [],
   "source": []
  }
 ],
 "metadata": {
  "celltoolbar": "Edit Metadata",
  "kernelspec": {
   "display_name": "Python 3 (ipykernel)",
   "language": "python",
   "name": "python3"
  },
  "language_info": {
   "codemirror_mode": {
    "name": "ipython",
    "version": 3
   },
   "file_extension": ".py",
   "mimetype": "text/x-python",
   "name": "python",
   "nbconvert_exporter": "python",
   "pygments_lexer": "ipython3",
   "version": "3.9.2"
  }
 },
 "nbformat": 4,
 "nbformat_minor": 5
}
