{
 "cells": [
  {
   "cell_type": "markdown",
   "id": "1c2bf009",
   "metadata": {},
   "source": [
    "# Girls Day am Lehrstuhl für Theoretische Physik 2\n",
    "Hier wollen wir uns ein einfachen Beispiel anschauen\n"
   ]
  },
  {
   "cell_type": "code",
   "execution_count": 7,
   "id": "ebf0a922",
   "metadata": {
    "scrolled": true,
    "tags": [
     "hide-output"
    ]
   },
   "outputs": [
    {
     "name": "stdout",
     "output_type": "stream",
     "text": [
      "Note: you may need to restart the kernel to use updated packages.Requirement already satisfied: ipywidgets in c:\\users\\matthias blaschke\\appdata\\local\\programs\\python\\python39\\lib\\site-packages (7.7.0)\n",
      "Requirement already satisfied: ipykernel>=4.5.1 in c:\\users\\matthias blaschke\\appdata\\local\\programs\\python\\python39\\lib\\site-packages (from ipywidgets) (6.13.0)\n",
      "Requirement already satisfied: jupyterlab-widgets>=1.0.0 in c:\\users\\matthias blaschke\\appdata\\local\\programs\\python\\python39\\lib\\site-packages (from ipywidgets) (1.1.0)\n",
      "Requirement already satisfied: nbformat>=4.2.0 in c:\\users\\matthias blaschke\\appdata\\local\\programs\\python\\python39\\lib\\site-packages (from ipywidgets) (5.3.0)\n",
      "Requirement already satisfied: traitlets>=4.3.1 in c:\\users\\matthias blaschke\\appdata\\local\\programs\\python\\python39\\lib\\site-packages (from ipywidgets) (5.1.1)\n",
      "Requirement already satisfied: ipython>=4.0.0 in c:\\users\\matthias blaschke\\appdata\\local\\programs\\python\\python39\\lib\\site-packages (from ipywidgets) (8.2.0)\n",
      "Requirement already satisfied: ipython-genutils~=0.2.0 in c:\\users\\matthias blaschke\\appdata\\local\\programs\\python\\python39\\lib\\site-packages (from ipywidgets) (0.2.0)\n",
      "Requirement already satisfied: widgetsnbextension~=3.6.0 in c:\\users\\matthias blaschke\\appdata\\local\\programs\\python\\python39\\lib\\site-packages (from ipywidgets) (3.6.0)\n",
      "Requirement already satisfied: tornado>=6.1 in c:\\users\\matthias blaschke\\appdata\\local\\programs\\python\\python39\\lib\\site-packages (from ipykernel>=4.5.1->ipywidgets) (6.1)\n",
      "Requirement already satisfied: jupyter-client>=6.1.12 in c:\\users\\matthias blaschke\\appdata\\local\\programs\\python\\python39\\lib\\site-packages (from ipykernel>=4.5.1->ipywidgets) (7.2.2)\n",
      "Requirement already satisfied: nest-asyncio in c:\\users\\matthias blaschke\\appdata\\local\\programs\\python\\python39\\lib\\site-packages (from ipykernel>=4.5.1->ipywidgets) (1.5.5)\n",
      "Requirement already satisfied: packaging in c:\\users\\matthias blaschke\\appdata\\local\\programs\\python\\python39\\lib\\site-packages (from ipykernel>=4.5.1->ipywidgets) (21.0)\n",
      "Requirement already satisfied: matplotlib-inline>=0.1 in c:\\users\\matthias blaschke\\appdata\\local\\programs\\python\\python39\\lib\\site-packages (from ipykernel>=4.5.1->ipywidgets) (0.1.3)\n",
      "Requirement already satisfied: psutil in c:\\users\\matthias blaschke\\appdata\\local\\programs\\python\\python39\\lib\\site-packages (from ipykernel>=4.5.1->ipywidgets) (5.9.0)\n",
      "Requirement already satisfied: debugpy>=1.0 in c:\\users\\matthias blaschke\\appdata\\local\\programs\\python\\python39\\lib\\site-packages (from ipykernel>=4.5.1->ipywidgets) (1.6.0)\n",
      "Requirement already satisfied: decorator in c:\\users\\matthias blaschke\\appdata\\local\\programs\\python\\python39\\lib\\site-packages (from ipython>=4.0.0->ipywidgets) (5.1.1)\n",
      "Requirement already satisfied: pickleshare in c:\\users\\matthias blaschke\\appdata\\local\\programs\\python\\python39\\lib\\site-packages (from ipython>=4.0.0->ipywidgets) (0.7.5)\n",
      "Requirement already satisfied: stack-data in c:\\users\\matthias blaschke\\appdata\\local\\programs\\python\\python39\\lib\\site-packages (from ipython>=4.0.0->ipywidgets) (0.2.0)\n",
      "Requirement already satisfied: colorama in c:\\users\\matthias blaschke\\appdata\\local\\programs\\python\\python39\\lib\\site-packages (from ipython>=4.0.0->ipywidgets) (0.4.4)\n",
      "Requirement already satisfied: backcall in c:\\users\\matthias blaschke\\appdata\\local\\programs\\python\\python39\\lib\\site-packages (from ipython>=4.0.0->ipywidgets) (0.2.0)\n",
      "Requirement already satisfied: setuptools>=18.5 in c:\\users\\matthias blaschke\\appdata\\local\\programs\\python\\python39\\lib\\site-packages (from ipython>=4.0.0->ipywidgets) (49.2.1)\n",
      "Requirement already satisfied: jedi>=0.16 in c:\\users\\matthias blaschke\\appdata\\local\\programs\\python\\python39\\lib\\site-packages (from ipython>=4.0.0->ipywidgets) (0.18.1)\n",
      "Requirement already satisfied: pygments>=2.4.0 in c:\\users\\matthias blaschke\\appdata\\local\\programs\\python\\python39\\lib\\site-packages (from ipython>=4.0.0->ipywidgets) (2.9.0)\n",
      "Requirement already satisfied: prompt-toolkit!=3.0.0,!=3.0.1,<3.1.0,>=2.0.0 in c:\\users\\matthias blaschke\\appdata\\local\\programs\\python\\python39\\lib\\site-packages (from ipython>=4.0.0->ipywidgets) (3.0.29)\n",
      "Requirement already satisfied: jsonschema>=2.6 in c:\\users\\matthias blaschke\\appdata\\local\\programs\\python\\python39\\lib\\site-packages (from nbformat>=4.2.0->ipywidgets) (4.2.0)\n",
      "Requirement already satisfied: jupyter-core in c:\\users\\matthias blaschke\\appdata\\local\\programs\\python\\python39\\lib\\site-packages (from nbformat>=4.2.0->ipywidgets) (4.10.0)\n",
      "Requirement already satisfied: fastjsonschema in c:\\users\\matthias blaschke\\appdata\\local\\programs\\python\\python39\\lib\\site-packages (from nbformat>=4.2.0->ipywidgets) (2.15.3)\n",
      "Requirement already satisfied: notebook>=4.4.1 in c:\\users\\matthias blaschke\\appdata\\local\\programs\\python\\python39\\lib\\site-packages (from widgetsnbextension~=3.6.0->ipywidgets) (6.4.11)\n",
      "Requirement already satisfied: parso<0.9.0,>=0.8.0 in c:\\users\\matthias blaschke\\appdata\\local\\programs\\python\\python39\\lib\\site-packages (from jedi>=0.16->ipython>=4.0.0->ipywidgets) (0.8.3)\n",
      "Requirement already satisfied: pyrsistent!=0.17.0,!=0.17.1,!=0.17.2,>=0.14.0 in c:\\users\\matthias blaschke\\appdata\\local\\programs\\python\\python39\\lib\\site-packages (from jsonschema>=2.6->nbformat>=4.2.0->ipywidgets) (0.18.0)\n",
      "Requirement already satisfied: attrs>=17.4.0 in c:\\users\\matthias blaschke\\appdata\\local\\programs\\python\\python39\\lib\\site-packages (from jsonschema>=2.6->nbformat>=4.2.0->ipywidgets) (21.2.0)\n",
      "Requirement already satisfied: pyzmq>=22.3 in c:\\users\\matthias blaschke\\appdata\\local\\programs\\python\\python39\\lib\\site-packages (from jupyter-client>=6.1.12->ipykernel>=4.5.1->ipywidgets) (22.3.0)\n",
      "Requirement already satisfied: entrypoints in c:\\users\\matthias blaschke\\appdata\\local\\programs\\python\\python39\\lib\\site-packages (from jupyter-client>=6.1.12->ipykernel>=4.5.1->ipywidgets) (0.4)\n",
      "Requirement already satisfied: python-dateutil>=2.8.2 in c:\\users\\matthias blaschke\\appdata\\local\\programs\\python\\python39\\lib\\site-packages (from jupyter-client>=6.1.12->ipykernel>=4.5.1->ipywidgets) (2.8.2)\n",
      "Requirement already satisfied: pywin32>=1.0 in c:\\users\\matthias blaschke\\appdata\\local\\programs\\python\\python39\\lib\\site-packages (from jupyter-core->nbformat>=4.2.0->ipywidgets) (303)\n",
      "Requirement already satisfied: jinja2 in c:\\users\\matthias blaschke\\appdata\\local\\programs\\python\\python39\\lib\\site-packages (from notebook>=4.4.1->widgetsnbextension~=3.6.0->ipywidgets) (3.1.1)\n",
      "Requirement already satisfied: nbconvert>=5 in c:\\users\\matthias blaschke\\appdata\\local\\programs\\python\\python39\\lib\\site-packages (from notebook>=4.4.1->widgetsnbextension~=3.6.0->ipywidgets) (6.5.0)\n",
      "Requirement already satisfied: Send2Trash>=1.8.0 in c:\\users\\matthias blaschke\\appdata\\local\\programs\\python\\python39\\lib\\site-packages (from notebook>=4.4.1->widgetsnbextension~=3.6.0->ipywidgets) (1.8.0)\n",
      "Requirement already satisfied: argon2-cffi in c:\\users\\matthias blaschke\\appdata\\local\\programs\\python\\python39\\lib\\site-packages (from notebook>=4.4.1->widgetsnbextension~=3.6.0->ipywidgets) (21.3.0)\n",
      "Requirement already satisfied: terminado>=0.8.3 in c:\\users\\matthias blaschke\\appdata\\local\\programs\\python\\python39\\lib\\site-packages (from notebook>=4.4.1->widgetsnbextension~=3.6.0->ipywidgets) (0.13.3)\n",
      "Requirement already satisfied: prometheus-client in c:\\users\\matthias blaschke\\appdata\\local\\programs\\python\\python39\\lib\\site-packages (from notebook>=4.4.1->widgetsnbextension~=3.6.0->ipywidgets) (0.14.1)\n",
      "Requirement already satisfied: wcwidth in c:\\users\\matthias blaschke\\appdata\\local\\programs\\python\\python39\\lib\\site-packages (from prompt-toolkit!=3.0.0,!=3.0.1,<3.1.0,>=2.0.0->ipython>=4.0.0->ipywidgets) (0.2.5)\n",
      "Requirement already satisfied: pyparsing>=2.0.2 in c:\\users\\matthias blaschke\\appdata\\local\\programs\\python\\python39\\lib\\site-packages (from packaging->ipykernel>=4.5.1->ipywidgets) (2.4.7)\n",
      "Requirement already satisfied: asttokens in c:\\users\\matthias blaschke\\appdata\\local\\programs\\python\\python39\\lib\\site-packages (from stack-data->ipython>=4.0.0->ipywidgets) (2.0.5)\n",
      "Requirement already satisfied: executing in c:\\users\\matthias blaschke\\appdata\\local\\programs\\python\\python39\\lib\\site-packages (from stack-data->ipython>=4.0.0->ipywidgets) (0.8.3)\n",
      "Requirement already satisfied: pure-eval in c:\\users\\matthias blaschke\\appdata\\local\\programs\\python\\python39\\lib\\site-packages (from stack-data->ipython>=4.0.0->ipywidgets) (0.2.2)\n",
      "Requirement already satisfied: tinycss2 in c:\\users\\matthias blaschke\\appdata\\local\\programs\\python\\python39\\lib\\site-packages (from nbconvert>=5->notebook>=4.4.1->widgetsnbextension~=3.6.0->ipywidgets) (1.1.1)\n",
      "Requirement already satisfied: mistune<2,>=0.8.1 in c:\\users\\matthias blaschke\\appdata\\local\\programs\\python\\python39\\lib\\site-packages (from nbconvert>=5->notebook>=4.4.1->widgetsnbextension~=3.6.0->ipywidgets) (0.8.4)\n",
      "Requirement already satisfied: MarkupSafe>=2.0 in c:\\users\\matthias blaschke\\appdata\\local\\programs\\python\\python39\\lib\\site-packages (from nbconvert>=5->notebook>=4.4.1->widgetsnbextension~=3.6.0->ipywidgets) (2.0.1)\n",
      "Requirement already satisfied: pandocfilters>=1.4.1 in c:\\users\\matthias blaschke\\appdata\\local\\programs\\python\\python39\\lib\\site-packages (from nbconvert>=5->notebook>=4.4.1->widgetsnbextension~=3.6.0->ipywidgets) (1.5.0)\n",
      "Requirement already satisfied: nbclient>=0.5.0 in c:\\users\\matthias blaschke\\appdata\\local\\programs\\python\\python39\\lib\\site-packages (from nbconvert>=5->notebook>=4.4.1->widgetsnbextension~=3.6.0->ipywidgets) (0.6.0)\n",
      "Requirement already satisfied: defusedxml in c:\\users\\matthias blaschke\\appdata\\local\\programs\\python\\python39\\lib\\site-packages (from nbconvert>=5->notebook>=4.4.1->widgetsnbextension~=3.6.0->ipywidgets) (0.7.1)\n",
      "Requirement already satisfied: bleach in c:\\users\\matthias blaschke\\appdata\\local\\programs\\python\\python39\\lib\\site-packages (from nbconvert>=5->notebook>=4.4.1->widgetsnbextension~=3.6.0->ipywidgets) (5.0.0)\n",
      "Requirement already satisfied: beautifulsoup4 in c:\\users\\matthias blaschke\\appdata\\local\\programs\\python\\python39\\lib\\site-packages (from nbconvert>=5->notebook>=4.4.1->widgetsnbextension~=3.6.0->ipywidgets) (4.11.1)\n",
      "Requirement already satisfied: jupyterlab-pygments in c:\\users\\matthias blaschke\\appdata\\local\\programs\\python\\python39\\lib\\site-packages (from nbconvert>=5->notebook>=4.4.1->widgetsnbextension~=3.6.0->ipywidgets) (0.2.2)\n",
      "Requirement already satisfied: six>=1.5 in c:\\users\\matthias blaschke\\appdata\\local\\programs\\python\\python39\\lib\\site-packages (from python-dateutil>=2.8.2->jupyter-client>=6.1.12->ipykernel>=4.5.1->ipywidgets) (1.15.0)\n",
      "Requirement already satisfied: pywinpty>=1.1.0 in c:\\users\\matthias blaschke\\appdata\\local\\programs\\python\\python39\\lib\\site-packages (from terminado>=0.8.3->notebook>=4.4.1->widgetsnbextension~=3.6.0->ipywidgets) (2.0.5)\n",
      "Requirement already satisfied: argon2-cffi-bindings in c:\\users\\matthias blaschke\\appdata\\local\\programs\\python\\python39\\lib\\site-packages (from argon2-cffi->notebook>=4.4.1->widgetsnbextension~=3.6.0->ipywidgets) (21.2.0)\n",
      "Requirement already satisfied: cffi>=1.0.1 in c:\\users\\matthias blaschke\\appdata\\local\\programs\\python\\python39\\lib\\site-packages (from argon2-cffi-bindings->argon2-cffi->notebook>=4.4.1->widgetsnbextension~=3.6.0->ipywidgets) (1.15.0)\n",
      "Requirement already satisfied: soupsieve>1.2 in c:\\users\\matthias blaschke\\appdata\\local\\programs\\python\\python39\\lib\\site-packages (from beautifulsoup4->nbconvert>=5->notebook>=4.4.1->widgetsnbextension~=3.6.0->ipywidgets) (2.3.2.post1)\n",
      "Requirement already satisfied: webencodings in c:\\users\\matthias blaschke\\appdata\\local\\programs\\python\\python39\\lib\\site-packages (from bleach->nbconvert>=5->notebook>=4.4.1->widgetsnbextension~=3.6.0->ipywidgets) (0.5.1)\n",
      "Requirement already satisfied: pycparser in c:\\users\\matthias blaschke\\appdata\\local\\programs\\python\\python39\\lib\\site-packages (from cffi>=1.0.1->argon2-cffi-bindings->argon2-cffi->notebook>=4.4.1->widgetsnbextension~=3.6.0->ipywidgets) (2.21)\n",
      "\n"
     ]
    },
    {
     "name": "stderr",
     "output_type": "stream",
     "text": [
      "WARNING: You are using pip version 21.3.1; however, version 22.0.4 is available.\n",
      "You should consider upgrading via the 'c:\\users\\matthias blaschke\\appdata\\local\\programs\\python\\python39\\python.exe -m pip install --upgrade pip' command.\n"
     ]
    }
   ],
   "source": [
    "%matplotlib inline\n",
    "%pip install ipywidgets"
   ]
  },
  {
   "cell_type": "code",
   "execution_count": 5,
   "id": "49eee065",
   "metadata": {},
   "outputs": [],
   "source": [
    "from ipywidgets import interact, interactive\n",
    "from IPython.display import clear_output, display, HTML"
   ]
  },
  {
   "cell_type": "code",
   "execution_count": 6,
   "id": "1cc11af1",
   "metadata": {},
   "outputs": [],
   "source": [
    "import numpy as np\n",
    "from scipy import integrate\n",
    "\n",
    "from matplotlib import pyplot as plt\n",
    "from mpl_toolkits.mplot3d import Axes3D\n",
    "from matplotlib.colors import cnames\n",
    "from matplotlib import animation"
   ]
  },
  {
   "cell_type": "code",
   "execution_count": 9,
   "id": "8601d341",
   "metadata": {},
   "outputs": [
    {
     "data": {
      "image/png": "[encoded data removed]",
      "text/plain": [
       "<Figure size 432x288 with 1 Axes>"
      ]
     },
     "metadata": {
      "needs_background": "light"
     },
     "output_type": "display_data"
    }
   ],
   "source": [
    "from matplotlib import pyplot as plt\n",
    "import numpy as np\n",
    "\n",
    "\n",
    "fig, ax = plt.subplots()\n",
    "\n",
    "E=np.linspace(-5,5,100)\n",
    "Gamma_L=1.0\n",
    "Gamma_R=2.0\n",
    "e0 = 0.0\n",
    "\n",
    "T=(4*Gamma_L*Gamma_R)/((E-e0)**2+(Gamma_L*Gamma_R)**2)\n",
    "\n",
    "# Map each onto a scatterplot we'll create with Matplotlib\n",
    "ax.plot(E,T)\n",
    "ax.set(title=\"Transmission\")\n",
    "ax.set_xlabel(\"Energie\")\n",
    "ax.set_xlabel(\"Transmission\")\n",
    "plt.show()"
   ]
  },
  {
   "cell_type": "code",
   "execution_count": null,
   "id": "94d1dabb",
   "metadata": {},
   "outputs": [],
   "source": []
  }
 ],
 "metadata": {
  "celltoolbar": "Edit Metadata",
  "kernelspec": {
   "display_name": "Python 3 (ipykernel)",
   "language": "python",
   "name": "python3"
  },
  "language_info": {
   "codemirror_mode": {
    "name": "ipython",
    "version": 3
   },
   "file_extension": ".py",
   "mimetype": "text/x-python",
   "name": "python",
   "nbconvert_exporter": "python",
   "pygments_lexer": "ipython3",
   "version": "3.9.2"
  }
 },
 "nbformat": 4,
 "nbformat_minor": 5
}
