{
 "cells": [
  {
   "cell_type": "markdown",
   "id": "aeb7bff6",
   "metadata": {},
   "source": [
    "# Girls Day am Lehrstuhl für Theoretische Physik 2\n",
    "Hier wollen wir uns ein einfachen Beispiel anschauen\n"
   ]
  },
  {
   "cell_type": "code",
   "execution_count": 12,
   "id": "952a09c3",
   "metadata": {},
   "outputs": [
    {
     "data": {
      "application/vnd.jupyter.widget-view+json": {
       "model_id": "3dd24d139c1f46e0ba97836cd8cca877",
       "version_major": 2,
       "version_minor": 0
      },
      "text/plain": [
       "interactive(children=(FloatSlider(value=1.0, description='Gamma_L', max=4.0), FloatSlider(value=1.0, descripti…"
      ]
     },
     "metadata": {},
     "output_type": "display_data"
    }
   ],
   "source": [
    "%matplotlib inline\n",
    "from ipywidgets import interact, interactive\n",
    "from IPython.display import clear_output, display, HTML\n",
    "import numpy as np\n",
    "from matplotlib import pyplot as plt\n",
    "from matplotlib.colors import cnames\n",
    "from matplotlib import animation\n",
    "\n",
    "def plot_transmission_einzelnes_level(Gamma_L=1.0, Gamma_R=1.0, e0=0.0):\n",
    "\n",
    "    fig, ax = plt.subplots()\n",
    "    E=np.linspace(-5,5,100)\n",
    "\n",
    "\n",
    "    T=(4*Gamma_L*Gamma_R)/((E-e0)**2+(Gamma_L*Gamma_R)**2)\n",
    "\n",
    "    # Map each onto a scatterplot we'll create with Matplotlib\n",
    "    ax.plot(E,T)\n",
    "    ax.set(title=\"Transmission\")\n",
    "    ax.set_xlabel(\"Energie\")\n",
    "    ax.set_xlabel(\"Transmission\")\n",
    "    plt.show()\n",
    "\n",
    "w = interactive(plot_transmission_einzelnes_level, Gamma_L=(0,4.), Gamma_R=(0, 4.), \n",
    "                e0=(-5,5))\n",
    "display(w)"
   ]
  },
  {
   "cell_type": "code",
   "execution_count": null,
   "id": "29496621",
   "metadata": {},
   "outputs": [],
   "source": []
  }
 ],
 "metadata": {
  "celltoolbar": "Edit Metadata",
  "kernelspec": {
   "display_name": "Python 3 (ipykernel)",
   "language": "python",
   "name": "python3"
  },
  "language_info": {
   "codemirror_mode": {
    "name": "ipython",
    "version": 3
   },
   "file_extension": ".py",
   "mimetype": "text/x-python",
   "name": "python",
   "nbconvert_exporter": "python",
   "pygments_lexer": "ipython3",
   "version": "3.9.2"
  }
 },
 "nbformat": 4,
 "nbformat_minor": 5
}
